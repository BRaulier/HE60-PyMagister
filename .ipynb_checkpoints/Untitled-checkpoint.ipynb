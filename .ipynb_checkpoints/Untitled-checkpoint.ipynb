{
 "cells": [
  {
   "cell_type": "markdown",
   "id": "fbb3f344",
   "metadata": {},
   "source": [
    "## Using HydroLight as basis to tackle heterogeneity \n"
   ]
  },
  {
   "cell_type": "code",
   "execution_count": null,
   "id": "640ed846",
   "metadata": {},
   "outputs": [],
   "source": [
    "import scipy.specials as sp\n",
    "import numpy as np\n",
    "import matplotlib.pyplot as plt\n",
    "\n",
    "def T_erf(xi_e, alpha_erf):\n",
    "    T_erf = 1/2 * ( 1 + sp.erf(apha_erf * xi_e))\n",
    "    return T_erf\n",
    "\n",
    "x_dummy = np.linspace(-3, 3, 100)\n",
    "y_T_values = T_erf(x_dummy, 0.55)\n",
    "plt.plot(x_dummy, y_T_values)\n",
    "plt.show()"
   ]
  }
 ],
 "metadata": {
  "kernelspec": {
   "display_name": "Python 3 (ipykernel)",
   "language": "python",
   "name": "python3"
  },
  "language_info": {
   "codemirror_mode": {
    "name": "ipython",
    "version": 3
   },
   "file_extension": ".py",
   "mimetype": "text/x-python",
   "name": "python",
   "nbconvert_exporter": "python",
   "pygments_lexer": "ipython3",
   "version": "3.9.6"
  }
 },
 "nbformat": 4,
 "nbformat_minor": 5
}
